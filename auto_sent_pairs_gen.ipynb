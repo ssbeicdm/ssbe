{
 "cells": [
  {
   "cell_type": "code",
   "execution_count": 1,
   "metadata": {
    "collapsed": true
   },
   "outputs": [],
   "source": [
    "import pandas as pd\n",
    "import numpy as np\n",
    "import json, pickle, os\n",
    "import urllib2\n"
   ]
  },
  {
   "cell_type": "code",
   "execution_count": 2,
   "metadata": {
    "collapsed": true
   },
   "outputs": [],
   "source": [
    "def get_ids(json_file):\n",
    "    # takes a json file with list of articles meta data including a field named 'istex_id'\n",
    "    # retuns numpy array with the istex_id of the articles\n",
    "    ids = np.arange(len(json_file), dtype=np.object)\n",
    "    for (i,s) in enumerate(json_file):\n",
    "        ids[i] = s['istex_id']\n",
    "    return ids"
   ]
  },
  {
   "cell_type": "code",
   "execution_count": 52,
   "metadata": {
    "collapsed": true
   },
   "outputs": [],
   "source": [
    "def get_abstract(istex_id):\n",
    "    response = urllib2.urlopen('https://api.istex.fr/document/'+istex_id)\n",
    "    data = json.load(response, encoding=None)\n",
    "    try:\n",
    "        abst = data['abstract']\n",
    "        return abst\n",
    "    except:\n",
    "        print istex_id\n",
    "        return data['title']"
   ]
  },
  {
   "cell_type": "code",
   "execution_count": 4,
   "metadata": {
    "collapsed": true
   },
   "outputs": [],
   "source": [
    "seed = json.load(open('../RecSys_Exp_files/ISTEX_MentalRotation/sample_data/sportArticlesAsIstex_UniqID_182.json','r'))\n",
    "test = json.load(open('../RecSys_Exp_files/ISTEX_MentalRotation/sample_data/MentalRotationInMetaDataIstexWithoutAnnotated.json','r'))\n",
    "seed_ids = get_ids(seed)\n",
    "test_ids = get_ids(test)"
   ]
  },
  {
   "cell_type": "code",
   "execution_count": 17,
   "metadata": {
    "collapsed": true
   },
   "outputs": [],
   "source": [
    "seed_abstracts = np.array(range(len(seed_ids)), dtype=np.object)\n",
    "for i in range(len(seed)):\n",
    "    seed_abstracts[i] = seed[i]['abstract'].split('.')"
   ]
  },
  {
   "cell_type": "code",
   "execution_count": 37,
   "metadata": {},
   "outputs": [
    {
     "data": {
      "text/plain": [
       "1310"
      ]
     },
     "execution_count": 37,
     "metadata": {},
     "output_type": "execute_result"
    }
   ],
   "source": [
    "def get_sentances(abstracts):\n",
    "#create the list of sentances exluding empty or very short sentances\n",
    "    sentances = []\n",
    "    for abstract in abstracts:\n",
    "        for sentance in abstract:\n",
    "            if len(sentance) > 21:\n",
    "                sentances.append(sentance)\n",
    "    return sentances\n",
    "seed_sentances = get_sentances(seed_abstracts)\n",
    "len(seed_sentances)"
   ]
  },
  {
   "cell_type": "code",
   "execution_count": 15,
   "metadata": {},
   "outputs": [
    {
     "data": {
      "text/plain": [
       "{u'KeyWords': [u'orientation-dependant', u'shape recognition'],\n",
       " u'abstract': u'',\n",
       " u'authors': [{u'name': u'Michael J. Tarr'}, {u'name': u'Steven Pinker'}],\n",
       " u'doi': u'10.1111/j.1467-9280.1991.tb00135.x',\n",
       " u'host': {u'corpusName': u' Association for Psychological Science',\n",
       "  u'title': u'Psychological Science',\n",
       "  u'volume': u'2'},\n",
       " u'istex_id': u'ANNOTATED001MENTAL000ROTATION10100000136',\n",
       " u'publicationDate': u'1991',\n",
       " u'source': [u'UCBL'],\n",
       " u'title': u'Orientation-Dependent Mechanisms in Shape Recognition: Further Issues'}"
      ]
     },
     "execution_count": 15,
     "metadata": {},
     "output_type": "execute_result"
    }
   ],
   "source": [
    "# a seed article without an abstract\n",
    "seed[151]"
   ]
  },
  {
   "cell_type": "code",
   "execution_count": 47,
   "metadata": {},
   "outputs": [],
   "source": [
    "def get_abstracts(ids):\n",
    "    abstracts = np.array(range(len(ids)), dtype=np.object)\n",
    "    for (i, t_id) in enumerate(ids):\n",
    "        abstracts[i] = get_abstract(t_id).split('.')\n",
    "    return abstracts\n",
    "test_abstracts = get_abstracts(test_ids)"
   ]
  },
  {
   "cell_type": "code",
   "execution_count": 48,
   "metadata": {},
   "outputs": [
    {
     "data": {
      "text/plain": [
       "1551"
      ]
     },
     "execution_count": 48,
     "metadata": {},
     "output_type": "execute_result"
    }
   ],
   "source": [
    "test_sentances = get_sentances(test_abstracts)\n",
    "len(test_sentances)"
   ]
  },
  {
   "cell_type": "code",
   "execution_count": 55,
   "metadata": {
    "collapsed": true
   },
   "outputs": [],
   "source": [
    "def bring_results_sentances(file_path, id_column):\n",
    "    df = pd.DataFrame()\n",
    "    top200 = np.array(df.from_csv(file_path)[id_column])\n",
    "    abstracts = get_abstracts(top200)\n",
    "    sentances = get_sentances(abstracts)\n",
    "    return sentances"
   ]
  },
  {
   "cell_type": "code",
   "execution_count": 77,
   "metadata": {},
   "outputs": [
    {
     "name": "stdout",
     "output_type": "stream",
     "text": [
      "51306323120126D81D0E88A1A6A69BABC1708F9D\n",
      "823F414AA910D7417970A91A4840656D09B1ADE1\n",
      "D0EA2A2E77A4034C3CB2158627D7221427AC7814\n",
      "0EBBF1E1DC67BF2DEE7A8A040C5BE9B2F458B3D7\n",
      "93908E1D3B68509A775E449D755F6E7615FDD6E8\n",
      "DE0049F2163279B6797EDEB287C0A484B5EA5CE4\n",
      "97197631FC7844EAB0F5DE25112218FA63375173\n",
      "E72E444D4F707D3E7495F0FA554CF8829E206C46\n",
      "E6E5207357437DFDCA56FDB1755E13406C1E0616\n",
      "0DC64D97700639752B7416A04BA6AAE7EACB5F1B\n",
      "93C4C8EF5ED606BC28823674848D9C9AC09633D6\n",
      "92A27CBC644960A8F6084C1E955E055B2CAD7D13\n",
      "00EE087C6E790885C9036E261B7D06097D96C79A\n"
     ]
    },
    {
     "data": {
      "text/plain": [
       "1414"
      ]
     },
     "execution_count": 77,
     "metadata": {},
     "output_type": "execute_result"
    }
   ],
   "source": [
    "#bring in the active learning top 200 results\n",
    "active_sentances = bring_results_sentances('top200_activelearn.csv', '0')\n",
    "len(active_sentances)"
   ]
  },
  {
   "cell_type": "code",
   "execution_count": 76,
   "metadata": {},
   "outputs": [],
   "source": [
    "def get_top_k(k, file_path, article_column):\n",
    "    df = pd.DataFrame()\n",
    "    top = np.array(range(k), dtype=np.object)\n",
    "    for (i, article) in enumerate(np.array(df.from_csv(file_path)[article_column])):\n",
    "        if i > k-1:\n",
    "            break\n",
    "        top[i] = article.split('/')[4]\n",
    "    return top.tolist()"
   ]
  },
  {
   "cell_type": "code",
   "execution_count": 73,
   "metadata": {
    "collapsed": true
   },
   "outputs": [],
   "source": [
    "def bring_results_sentances_from_list(top200):\n",
    "    abstracts = get_abstracts(top200)\n",
    "    sentances = get_sentances(abstracts)\n",
    "    return sentances"
   ]
  },
  {
   "cell_type": "code",
   "execution_count": 74,
   "metadata": {},
   "outputs": [
    {
     "name": "stdout",
     "output_type": "stream",
     "text": [
      "9A1BBD3AC408F42F669B2F2755730FB5DCF2AFC8\n",
      "34FA03814FB1B8C5DB7E1124AFB6933263ED9406\n",
      "0987992DAB579C83521BABD54F3DD7840B5709F0\n"
     ]
    },
    {
     "data": {
      "text/plain": [
       "1571"
      ]
     },
     "execution_count": 74,
     "metadata": {},
     "output_type": "execute_result"
    }
   ],
   "source": [
    "#bring in 3SB top 200 results\n",
    "qbe_top200 = get_top_k(200, 'QbE.csv', 'Articles')\n",
    "qbe_sentance =  bring_results_sentances_from_list(qbe_top200)\n",
    "len(qbe_sentance)"
   ]
  },
  {
   "cell_type": "code",
   "execution_count": 75,
   "metadata": {},
   "outputs": [
    {
     "name": "stdout",
     "output_type": "stream",
     "text": [
      "8A14A0D5DEEA9D91EC6C8B22064490EFDFB3506F\n",
      "9D962699AE087CE8DE5B2D7B61ECBEE5C40A6F04\n",
      "123D68EFDE046B70CC1AD52B1E9951246E1C3D27\n",
      "27468151CE649DAA5A6792D4D7C6D968AFD26E6E\n",
      "E93468E68B514EA825BD250FC5F42587BF4A79E6\n",
      "0706EC3B1C7B1501212E58260E702214E38A1ED1\n",
      "0917DB247E3573222DF2F307C4E59D94CC135ACC\n",
      "14012FAE6879AB6E9F3BB4FF2BBF6BC7E4723EC5\n",
      "94C991E0C141B84FFB78A5CE1453FF253AFBD7B5\n",
      "1A8EFA52B147739BE8FC7E01483BDBA000BE442B\n",
      "E1DACA0569047B9DFFCB3DA2A82A89A03726B9EB\n",
      "6406A034CC2894C42B8861B24A36AB32652987CE\n",
      "740F6FA421B882270AE202D1C5F7551A0C3FCF6F\n",
      "35966DD015D8F3B393BEF2BFDADFCC79F939B1EA\n",
      "ED37CECF0769C38B7319121EA5EC4D21F60F17E4\n",
      "2E714DD20F5AAEC95139FE946F2FF0FE406DB568\n",
      "757B3BA30A8182AE01E40E8F0EC8376015217535\n",
      "65DA0042682AE20F37987B05FC8397F03F3C4AE1\n",
      "E1755C76C3945AD4BC27F8F98C9E9E21494186F9\n",
      "6CF2FEA432D1261AEAF86ABA4B01D7DC71F44C69\n",
      "8BC7E0732DB69219F7EF74243E2B788EF321EA20\n",
      "A4BB24D04156565D0987C5E150A6C767CCD2D845\n",
      "CD889F8E46180B12558B3A33C7C742BC6C8955E0\n",
      "10C0252C82B1AC3C4A45129CC592853615833E49\n",
      "496E07332CB8693CB77B6E61F3901872523952E2\n",
      "2B78099531073AABE6524982E234298D3D104F37\n",
      "E7CC702FBF3EB14066F491313D077DE535E57B16\n",
      "2D35DFB58896C23BCF3C7035A34CEA99423849D1\n",
      "0E280C2989DB2C4DE236160A762780F167C84E94\n",
      "238D843CBFAACBEF022E589C17CD524B81818F06\n",
      "E9305E4B2849AB7EB689315DB815874581E5B6CA\n",
      "B88561E2E0C9E986552D554C5237C6A31B996D32\n",
      "974F386A144A6F22CCA540BCF94A599FBB50C518\n",
      "B03B2A7AC4D269C66FDB30B7D51171C52C037403\n",
      "776D5AF9EFD8F504B5168E06AEAB8AA97F75FDDE\n",
      "720BA8B841F091CF17B232C983AAB8B776F99B1A\n",
      "D1673FE96A8883D1BCD7A5FCD3FCE44F2DF3B051\n",
      "4AF4D0EA33445ABC169A0B20B5EF066DB0AB30AA\n",
      "B3EAEDDEDAF2D9798FA782853336C3CD0BA50BF5\n",
      "13410B4010479EA7F4CF8DE4655305A9BF68081A\n",
      "0F1269874282745FCDBB7B41C6BCD48F33857E18\n",
      "E43383D9D7772AD9836657772DC805E9670837D4\n",
      "170B2B766345CC217FDEDCF7021C2600D6D0CB6E\n",
      "06E63EDC4F152E79492BD3CC11BDF07BF772429B\n",
      "5A03ABF0BCFA06C31633A001390666A5AB1548E1\n",
      "031121052120A681D49663A9B63744D1EE57BB14\n",
      "D03E866FD3704C3E859B5452A320950CE1656723\n",
      "8B5A20996508417C25F84376779A7096D328C9AF\n",
      "831200C395932532A78249264638D30FBE63206B\n",
      "7F2F36977D4523623B061D8B08B5D62627BEA3B8\n",
      "7C4D48C96EF867B91DC8AFF8779F2F7F9BA672FF\n",
      "7FC8B50AAC84D59AAB6723A7D77D3831690EE71B\n",
      "63CB696D347B31D4D9E2B58BDEF6CD22992849C6\n",
      "AD186B18559C91B7F7DFBF1103E3ED5D46236FE2\n",
      "430A87D541C7F0BB6ECA155E02288AEA7AD1FB6A\n",
      "05F954DE0E5D149AD1CD855C272864A826FD8D1C\n",
      "B567E500154B627219E1E0861B21C0E1B9552C32\n",
      "7A37B39460F4DD8454F9D7E9B8DC6181D2ABE065\n",
      "941CA56A020E999B9AB5944B5C6B58EFDF20987E\n",
      "BEFB2350E946FC2C36442A9E52F15895EEA15157\n",
      "4A437C9E6B22454FED1FADA75E9FB7F73CCCE03A\n",
      "9E0F5FD511920799259DB722CEDB639AD16E76D9\n",
      "3F8B4F5D010786EA2036E6F67802E1D861C65613\n",
      "F2871138B09B35D344E10D6A16E1F8E925487F4A\n",
      "0F5451B54062F00E2FCBE1B7317830622483E39C\n",
      "6085A8BFACB07CFE10207C92E601F93D0BE4A08C\n",
      "A69B6145B5F13DE196DE97FE9AA078BFDE03A8A8\n",
      "45D41AAECC2C7996A53BC56AFA6826768F7EDA60\n",
      "8E177099DD24D21A975677174F397695DB93FDEC\n",
      "42F32F38CD51D9337BAADD2ED1C61CA09D51654C\n",
      "5E4BE0EA54DF42B7E565F44AE31C07AA740FDFC3\n",
      "3411C01B1C1AA112755D55411742A4F95A659A35\n",
      "F4257AAADBBD047F1467F43AD0D60A6C68652CB3\n",
      "DAFDA9375378124E4E7940B01A9BEB9A6F243F8F\n"
     ]
    },
    {
     "data": {
      "text/plain": [
       "1516"
      ]
     },
     "execution_count": 75,
     "metadata": {},
     "output_type": "execute_result"
    }
   ],
   "source": [
    "#bring in MLT top 200 results\n",
    "mlt_top200 = get_top_k(200, 'MLT.csv', 'Article')\n",
    "mlt_sentance =  bring_results_sentances_from_list(mlt_top200)\n",
    "len(mlt_sentance)"
   ]
  },
  {
   "cell_type": "code",
   "execution_count": 85,
   "metadata": {
    "collapsed": true
   },
   "outputs": [],
   "source": [
    "def auto_pairs_gen(result_sents, outfile):\n",
    "    sent_pairs = []\n",
    "    for s1 in result_sents:\n",
    "        for s2 in seed_sentances:\n",
    "            sent_pairs.append((s1, s2, 0.0))\n",
    "    df = pd.DataFrame(sent_pairs, columns=['Sent1', 'Sent2', 'Score'])\n",
    "    df.to_csv('sent_sem_exp_'+outfile, sep='~', index=None, encoding='utf-8')\n",
    "    return 'retuned file '+outfile\n"
   ]
  },
  {
   "cell_type": "code",
   "execution_count": 83,
   "metadata": {},
   "outputs": [
    {
     "data": {
      "text/plain": [
       "'retuned file active_pairs'"
      ]
     },
     "execution_count": 83,
     "metadata": {},
     "output_type": "execute_result"
    }
   ],
   "source": [
    "auto_pairs_gen(active_sentances, 'active_pairs')"
   ]
  },
  {
   "cell_type": "code",
   "execution_count": 86,
   "metadata": {},
   "outputs": [
    {
     "data": {
      "text/plain": [
       "'retuned file mlt_pairs'"
      ]
     },
     "execution_count": 86,
     "metadata": {},
     "output_type": "execute_result"
    }
   ],
   "source": [
    "auto_pairs_gen(qbe_sentance, 'qbe_pairs')\n",
    "auto_pairs_gen(mlt_sentance, 'mlt_pairs')"
   ]
  },
  {
   "cell_type": "code",
   "execution_count": null,
   "metadata": {
    "collapsed": true
   },
   "outputs": [],
   "source": []
  },
  {
   "cell_type": "code",
   "execution_count": 32,
   "metadata": {
    "collapsed": true
   },
   "outputs": [],
   "source": [
    "seed_sents = pd.read_csv(open('sample_data/3seeds.txt'), header=None, sep='\\n')\n",
    "active1_sents = pd.read_csv(open('sample_data/active1.txt'), header=None, sep='\\n')\n",
    "active2_sents = pd.read_csv(open('sample_data/active2.txt'), header=None, sep='\\n')\n",
    "active3_sents = pd.read_csv(open('sample_data/active3.txt'), header=None, sep='\\n')\n",
    "phase1_1_sents = pd.read_csv(open('sample_data/phase1_1.txt'), header=None, sep='\\n')\n",
    "phase1_2_sents = pd.read_csv(open('sample_data/phase1_2.txt'), header=None, sep='\\n')\n",
    "phase1_3_sents = pd.read_csv(open('sample_data/phase1_3.txt'), header=None, sep='\\n')"
   ]
  },
  {
   "cell_type": "code",
   "execution_count": 84,
   "metadata": {
    "collapsed": true
   },
   "outputs": [],
   "source": [
    "def pairs_gen(active_sents, outfile):\n",
    "    sent_pairs = []\n",
    "    for s1 in active_sents[0]:\n",
    "        for s2 in seed_sents[0]:\n",
    "            sent_pairs.append((s1, s2, 0.0))\n",
    "    df = pd.DataFrame(sent_pairs, columns=['Sent1', 'Sent2', 'Score'])\n",
    "    df.to_csv('sent_sem_exp_'+outfile, sep='~', index=None)\n",
    "    return 'retuned file '+outfile\n"
   ]
  },
  {
   "cell_type": "code",
   "execution_count": 35,
   "metadata": {},
   "outputs": [
    {
     "data": {
      "text/plain": [
       "'retuned file phase1_3_pairs.csv'"
      ]
     },
     "execution_count": 35,
     "metadata": {},
     "output_type": "execute_result"
    }
   ],
   "source": [
    "pairs_gen(active1_sents, 'active1_pairs.csv')\n",
    "pairs_gen(active2_sents, 'active2_pairs.csv')\n",
    "pairs_gen(active3_sents, 'active3_pairs.csv')\n",
    "pairs_gen(phase1_1_sents, 'phase1_1_pairs.csv')\n",
    "pairs_gen(phase1_2_sents, 'phase1_2_pairs.csv')\n",
    "pairs_gen(phase1_3_sents, 'phase1_3_pairs.csv')"
   ]
  },
  {
   "cell_type": "code",
   "execution_count": 12,
   "metadata": {},
   "outputs": [
    {
     "data": {
      "text/html": [
       "<div>\n",
       "<table border=\"1\" class=\"dataframe\">\n",
       "  <thead>\n",
       "    <tr style=\"text-align: right;\">\n",
       "      <th></th>\n",
       "      <th>Sent1</th>\n",
       "      <th>Sent2</th>\n",
       "      <th>Score</th>\n",
       "    </tr>\n",
       "  </thead>\n",
       "  <tbody>\n",
       "    <tr>\n",
       "      <th>0</th>\n",
       "      <td>Generation of skeletal and multipart mental vi...</td>\n",
       "      <td>Effects of Using Mental and Manual Rotation Tr...</td>\n",
       "      <td>1.920951</td>\n",
       "    </tr>\n",
       "    <tr>\n",
       "      <th>1</th>\n",
       "      <td>Generation of skeletal and multipart mental vi...</td>\n",
       "      <td>The goal of this project was to examine how tr...</td>\n",
       "      <td>2.942941</td>\n",
       "    </tr>\n",
       "    <tr>\n",
       "      <th>2</th>\n",
       "      <td>Generation of skeletal and multipart mental vi...</td>\n",
       "      <td>In Experiment 1, we examined improvement on a ...</td>\n",
       "      <td>1.764000</td>\n",
       "    </tr>\n",
       "    <tr>\n",
       "      <th>3</th>\n",
       "      <td>Generation of skeletal and multipart mental vi...</td>\n",
       "      <td>Practice in mental but not manual rotation lea...</td>\n",
       "      <td>0.956246</td>\n",
       "    </tr>\n",
       "    <tr>\n",
       "      <th>4</th>\n",
       "      <td>Generation of skeletal and multipart mental vi...</td>\n",
       "      <td>In Experiment 2, we examined improvement on a ...</td>\n",
       "      <td>0.718133</td>\n",
       "    </tr>\n",
       "    <tr>\n",
       "      <th>5</th>\n",
       "      <td>Generation of skeletal and multipart mental vi...</td>\n",
       "      <td>In this experiment, both mental and manual rot...</td>\n",
       "      <td>1.541414</td>\n",
       "    </tr>\n",
       "    <tr>\n",
       "      <th>6</th>\n",
       "      <td>Generation of skeletal and multipart mental vi...</td>\n",
       "      <td>These results suggest common processes in ment...</td>\n",
       "      <td>2.190217</td>\n",
       "    </tr>\n",
       "    <tr>\n",
       "      <th>7</th>\n",
       "      <td>Generation of skeletal and multipart mental vi...</td>\n",
       "      <td>The functional role of dorso-lateral premotor ...</td>\n",
       "      <td>2.064954</td>\n",
       "    </tr>\n",
       "    <tr>\n",
       "      <th>8</th>\n",
       "      <td>Generation of skeletal and multipart mental vi...</td>\n",
       "      <td>We examined whether body parts attached to abs...</td>\n",
       "      <td>0.773612</td>\n",
       "    </tr>\n",
       "    <tr>\n",
       "      <th>9</th>\n",
       "      <td>Generation of skeletal and multipart mental vi...</td>\n",
       "      <td>In Experiment 1, standard cube combinations re...</td>\n",
       "      <td>1.140523</td>\n",
       "    </tr>\n",
       "    <tr>\n",
       "      <th>10</th>\n",
       "      <td>Generation of skeletal and multipart mental vi...</td>\n",
       "      <td>Participants (N = 30) had to decide whether tw...</td>\n",
       "      <td>1.481883</td>\n",
       "    </tr>\n",
       "    <tr>\n",
       "      <th>11</th>\n",
       "      <td>Generation of skeletal and multipart mental vi...</td>\n",
       "      <td>They were fastest and made less errors in the ...</td>\n",
       "      <td>1.114221</td>\n",
       "    </tr>\n",
       "    <tr>\n",
       "      <th>12</th>\n",
       "      <td>Generation of skeletal and multipart mental vi...</td>\n",
       "      <td>A second experiment (N = 32) replicated the re...</td>\n",
       "      <td>1.680309</td>\n",
       "    </tr>\n",
       "    <tr>\n",
       "      <th>13</th>\n",
       "      <td>Generation of skeletal and multipart mental vi...</td>\n",
       "      <td>The findings of both experiments suggest that ...</td>\n",
       "      <td>1.790100</td>\n",
       "    </tr>\n",
       "    <tr>\n",
       "      <th>14</th>\n",
       "      <td>Generation of skeletal and multipart mental vi...</td>\n",
       "      <td>Thus, embodiment appears to be a strong and in...</td>\n",
       "      <td>1.187416</td>\n",
       "    </tr>\n",
       "    <tr>\n",
       "      <th>15</th>\n",
       "      <td>Generation of skeletal and multipart mental vi...</td>\n",
       "      <td>Sex Differences in Mental Rotation and How The...</td>\n",
       "      <td>1.725416</td>\n",
       "    </tr>\n",
       "    <tr>\n",
       "      <th>16</th>\n",
       "      <td>Generation of skeletal and multipart mental vi...</td>\n",
       "      <td>The most consistent cognitive sex differences ...</td>\n",
       "      <td>0.875700</td>\n",
       "    </tr>\n",
       "    <tr>\n",
       "      <th>17</th>\n",
       "      <td>Generation of skeletal and multipart mental vi...</td>\n",
       "      <td>Such sex differences have been suggested to be...</td>\n",
       "      <td>0.589085</td>\n",
       "    </tr>\n",
       "    <tr>\n",
       "      <th>18</th>\n",
       "      <td>Generation of skeletal and multipart mental vi...</td>\n",
       "      <td>However, it is still debated how the sex diffe...</td>\n",
       "      <td>1.300747</td>\n",
       "    </tr>\n",
       "    <tr>\n",
       "      <th>19</th>\n",
       "      <td>Generation of skeletal and multipart mental vi...</td>\n",
       "      <td>To provide a detailed exploration of sex diffe...</td>\n",
       "      <td>1.655437</td>\n",
       "    </tr>\n",
       "    <tr>\n",
       "      <th>20</th>\n",
       "      <td>Generation of skeletal and multipart mental vi...</td>\n",
       "      <td>Second-to-fourth digit length ratios (2D:4D) w...</td>\n",
       "      <td>0.951523</td>\n",
       "    </tr>\n",
       "    <tr>\n",
       "      <th>21</th>\n",
       "      <td>Generation of skeletal and multipart mental vi...</td>\n",
       "      <td>Handedness was assessed by the use of the Edin...</td>\n",
       "      <td>1.330544</td>\n",
       "    </tr>\n",
       "    <tr>\n",
       "      <th>22</th>\n",
       "      <td>Generation of skeletal and multipart mental vi...</td>\n",
       "      <td>In addition, we investigated the relation of s...</td>\n",
       "      <td>1.472080</td>\n",
       "    </tr>\n",
       "    <tr>\n",
       "      <th>23</th>\n",
       "      <td>Generation of skeletal and multipart mental vi...</td>\n",
       "      <td>Results showed a male advantage in rotational ...</td>\n",
       "      <td>0.722463</td>\n",
       "    </tr>\n",
       "    <tr>\n",
       "      <th>24</th>\n",
       "      <td>Generation of skeletal and multipart mental vi...</td>\n",
       "      <td>These findings are in contrast to the MR perfo...</td>\n",
       "      <td>1.789682</td>\n",
       "    </tr>\n",
       "    <tr>\n",
       "      <th>25</th>\n",
       "      <td>Generation of skeletal and multipart mental vi...</td>\n",
       "      <td>These results suggest that the differences in ...</td>\n",
       "      <td>1.641127</td>\n",
       "    </tr>\n",
       "    <tr>\n",
       "      <th>26</th>\n",
       "      <td>In a series of three experiments the hemispher...</td>\n",
       "      <td>Effects of Using Mental and Manual Rotation Tr...</td>\n",
       "      <td>1.828229</td>\n",
       "    </tr>\n",
       "    <tr>\n",
       "      <th>27</th>\n",
       "      <td>In a series of three experiments the hemispher...</td>\n",
       "      <td>The goal of this project was to examine how tr...</td>\n",
       "      <td>1.896127</td>\n",
       "    </tr>\n",
       "    <tr>\n",
       "      <th>28</th>\n",
       "      <td>In a series of three experiments the hemispher...</td>\n",
       "      <td>In Experiment 1, we examined improvement on a ...</td>\n",
       "      <td>1.543728</td>\n",
       "    </tr>\n",
       "    <tr>\n",
       "      <th>29</th>\n",
       "      <td>In a series of three experiments the hemispher...</td>\n",
       "      <td>Practice in mental but not manual rotation lea...</td>\n",
       "      <td>1.227528</td>\n",
       "    </tr>\n",
       "    <tr>\n",
       "      <th>...</th>\n",
       "      <td>...</td>\n",
       "      <td>...</td>\n",
       "      <td>...</td>\n",
       "    </tr>\n",
       "    <tr>\n",
       "      <th>152</th>\n",
       "      <td>These findings provide support to the hypothes...</td>\n",
       "      <td>In addition, we investigated the relation of s...</td>\n",
       "      <td>0.757913</td>\n",
       "    </tr>\n",
       "    <tr>\n",
       "      <th>153</th>\n",
       "      <td>These findings provide support to the hypothes...</td>\n",
       "      <td>Results showed a male advantage in rotational ...</td>\n",
       "      <td>1.445867</td>\n",
       "    </tr>\n",
       "    <tr>\n",
       "      <th>154</th>\n",
       "      <td>These findings provide support to the hypothes...</td>\n",
       "      <td>These findings are in contrast to the MR perfo...</td>\n",
       "      <td>0.572131</td>\n",
       "    </tr>\n",
       "    <tr>\n",
       "      <th>155</th>\n",
       "      <td>These findings provide support to the hypothes...</td>\n",
       "      <td>These results suggest that the differences in ...</td>\n",
       "      <td>1.886378</td>\n",
       "    </tr>\n",
       "    <tr>\n",
       "      <th>156</th>\n",
       "      <td>Results are discussed both in terms of Kosslyn...</td>\n",
       "      <td>Effects of Using Mental and Manual Rotation Tr...</td>\n",
       "      <td>1.825954</td>\n",
       "    </tr>\n",
       "    <tr>\n",
       "      <th>157</th>\n",
       "      <td>Results are discussed both in terms of Kosslyn...</td>\n",
       "      <td>The goal of this project was to examine how tr...</td>\n",
       "      <td>0.927236</td>\n",
       "    </tr>\n",
       "    <tr>\n",
       "      <th>158</th>\n",
       "      <td>Results are discussed both in terms of Kosslyn...</td>\n",
       "      <td>In Experiment 1, we examined improvement on a ...</td>\n",
       "      <td>1.139511</td>\n",
       "    </tr>\n",
       "    <tr>\n",
       "      <th>159</th>\n",
       "      <td>Results are discussed both in terms of Kosslyn...</td>\n",
       "      <td>Practice in mental but not manual rotation lea...</td>\n",
       "      <td>1.119076</td>\n",
       "    </tr>\n",
       "    <tr>\n",
       "      <th>160</th>\n",
       "      <td>Results are discussed both in terms of Kosslyn...</td>\n",
       "      <td>In Experiment 2, we examined improvement on a ...</td>\n",
       "      <td>1.091673</td>\n",
       "    </tr>\n",
       "    <tr>\n",
       "      <th>161</th>\n",
       "      <td>Results are discussed both in terms of Kosslyn...</td>\n",
       "      <td>In this experiment, both mental and manual rot...</td>\n",
       "      <td>1.426276</td>\n",
       "    </tr>\n",
       "    <tr>\n",
       "      <th>162</th>\n",
       "      <td>Results are discussed both in terms of Kosslyn...</td>\n",
       "      <td>These results suggest common processes in ment...</td>\n",
       "      <td>1.699433</td>\n",
       "    </tr>\n",
       "    <tr>\n",
       "      <th>163</th>\n",
       "      <td>Results are discussed both in terms of Kosslyn...</td>\n",
       "      <td>The functional role of dorso-lateral premotor ...</td>\n",
       "      <td>0.913641</td>\n",
       "    </tr>\n",
       "    <tr>\n",
       "      <th>164</th>\n",
       "      <td>Results are discussed both in terms of Kosslyn...</td>\n",
       "      <td>We examined whether body parts attached to abs...</td>\n",
       "      <td>0.964608</td>\n",
       "    </tr>\n",
       "    <tr>\n",
       "      <th>165</th>\n",
       "      <td>Results are discussed both in terms of Kosslyn...</td>\n",
       "      <td>In Experiment 1, standard cube combinations re...</td>\n",
       "      <td>1.182724</td>\n",
       "    </tr>\n",
       "    <tr>\n",
       "      <th>166</th>\n",
       "      <td>Results are discussed both in terms of Kosslyn...</td>\n",
       "      <td>Participants (N = 30) had to decide whether tw...</td>\n",
       "      <td>0.653223</td>\n",
       "    </tr>\n",
       "    <tr>\n",
       "      <th>167</th>\n",
       "      <td>Results are discussed both in terms of Kosslyn...</td>\n",
       "      <td>They were fastest and made less errors in the ...</td>\n",
       "      <td>0.835689</td>\n",
       "    </tr>\n",
       "    <tr>\n",
       "      <th>168</th>\n",
       "      <td>Results are discussed both in terms of Kosslyn...</td>\n",
       "      <td>A second experiment (N = 32) replicated the re...</td>\n",
       "      <td>1.098885</td>\n",
       "    </tr>\n",
       "    <tr>\n",
       "      <th>169</th>\n",
       "      <td>Results are discussed both in terms of Kosslyn...</td>\n",
       "      <td>The findings of both experiments suggest that ...</td>\n",
       "      <td>2.336002</td>\n",
       "    </tr>\n",
       "    <tr>\n",
       "      <th>170</th>\n",
       "      <td>Results are discussed both in terms of Kosslyn...</td>\n",
       "      <td>Thus, embodiment appears to be a strong and in...</td>\n",
       "      <td>0.834688</td>\n",
       "    </tr>\n",
       "    <tr>\n",
       "      <th>171</th>\n",
       "      <td>Results are discussed both in terms of Kosslyn...</td>\n",
       "      <td>Sex Differences in Mental Rotation and How The...</td>\n",
       "      <td>1.929103</td>\n",
       "    </tr>\n",
       "    <tr>\n",
       "      <th>172</th>\n",
       "      <td>Results are discussed both in terms of Kosslyn...</td>\n",
       "      <td>The most consistent cognitive sex differences ...</td>\n",
       "      <td>0.934831</td>\n",
       "    </tr>\n",
       "    <tr>\n",
       "      <th>173</th>\n",
       "      <td>Results are discussed both in terms of Kosslyn...</td>\n",
       "      <td>Such sex differences have been suggested to be...</td>\n",
       "      <td>1.238322</td>\n",
       "    </tr>\n",
       "    <tr>\n",
       "      <th>174</th>\n",
       "      <td>Results are discussed both in terms of Kosslyn...</td>\n",
       "      <td>However, it is still debated how the sex diffe...</td>\n",
       "      <td>1.051403</td>\n",
       "    </tr>\n",
       "    <tr>\n",
       "      <th>175</th>\n",
       "      <td>Results are discussed both in terms of Kosslyn...</td>\n",
       "      <td>To provide a detailed exploration of sex diffe...</td>\n",
       "      <td>1.490316</td>\n",
       "    </tr>\n",
       "    <tr>\n",
       "      <th>176</th>\n",
       "      <td>Results are discussed both in terms of Kosslyn...</td>\n",
       "      <td>Second-to-fourth digit length ratios (2D:4D) w...</td>\n",
       "      <td>0.880137</td>\n",
       "    </tr>\n",
       "    <tr>\n",
       "      <th>177</th>\n",
       "      <td>Results are discussed both in terms of Kosslyn...</td>\n",
       "      <td>Handedness was assessed by the use of the Edin...</td>\n",
       "      <td>1.397422</td>\n",
       "    </tr>\n",
       "    <tr>\n",
       "      <th>178</th>\n",
       "      <td>Results are discussed both in terms of Kosslyn...</td>\n",
       "      <td>In addition, we investigated the relation of s...</td>\n",
       "      <td>1.519207</td>\n",
       "    </tr>\n",
       "    <tr>\n",
       "      <th>179</th>\n",
       "      <td>Results are discussed both in terms of Kosslyn...</td>\n",
       "      <td>Results showed a male advantage in rotational ...</td>\n",
       "      <td>2.276137</td>\n",
       "    </tr>\n",
       "    <tr>\n",
       "      <th>180</th>\n",
       "      <td>Results are discussed both in terms of Kosslyn...</td>\n",
       "      <td>These findings are in contrast to the MR perfo...</td>\n",
       "      <td>1.045980</td>\n",
       "    </tr>\n",
       "    <tr>\n",
       "      <th>181</th>\n",
       "      <td>Results are discussed both in terms of Kosslyn...</td>\n",
       "      <td>These results suggest that the differences in ...</td>\n",
       "      <td>1.812677</td>\n",
       "    </tr>\n",
       "  </tbody>\n",
       "</table>\n",
       "<p>182 rows × 3 columns</p>\n",
       "</div>"
      ],
      "text/plain": [
       "                                                 Sent1  \\\n",
       "0    Generation of skeletal and multipart mental vi...   \n",
       "1    Generation of skeletal and multipart mental vi...   \n",
       "2    Generation of skeletal and multipart mental vi...   \n",
       "3    Generation of skeletal and multipart mental vi...   \n",
       "4    Generation of skeletal and multipart mental vi...   \n",
       "5    Generation of skeletal and multipart mental vi...   \n",
       "6    Generation of skeletal and multipart mental vi...   \n",
       "7    Generation of skeletal and multipart mental vi...   \n",
       "8    Generation of skeletal and multipart mental vi...   \n",
       "9    Generation of skeletal and multipart mental vi...   \n",
       "10   Generation of skeletal and multipart mental vi...   \n",
       "11   Generation of skeletal and multipart mental vi...   \n",
       "12   Generation of skeletal and multipart mental vi...   \n",
       "13   Generation of skeletal and multipart mental vi...   \n",
       "14   Generation of skeletal and multipart mental vi...   \n",
       "15   Generation of skeletal and multipart mental vi...   \n",
       "16   Generation of skeletal and multipart mental vi...   \n",
       "17   Generation of skeletal and multipart mental vi...   \n",
       "18   Generation of skeletal and multipart mental vi...   \n",
       "19   Generation of skeletal and multipart mental vi...   \n",
       "20   Generation of skeletal and multipart mental vi...   \n",
       "21   Generation of skeletal and multipart mental vi...   \n",
       "22   Generation of skeletal and multipart mental vi...   \n",
       "23   Generation of skeletal and multipart mental vi...   \n",
       "24   Generation of skeletal and multipart mental vi...   \n",
       "25   Generation of skeletal and multipart mental vi...   \n",
       "26   In a series of three experiments the hemispher...   \n",
       "27   In a series of three experiments the hemispher...   \n",
       "28   In a series of three experiments the hemispher...   \n",
       "29   In a series of three experiments the hemispher...   \n",
       "..                                                 ...   \n",
       "152  These findings provide support to the hypothes...   \n",
       "153  These findings provide support to the hypothes...   \n",
       "154  These findings provide support to the hypothes...   \n",
       "155  These findings provide support to the hypothes...   \n",
       "156  Results are discussed both in terms of Kosslyn...   \n",
       "157  Results are discussed both in terms of Kosslyn...   \n",
       "158  Results are discussed both in terms of Kosslyn...   \n",
       "159  Results are discussed both in terms of Kosslyn...   \n",
       "160  Results are discussed both in terms of Kosslyn...   \n",
       "161  Results are discussed both in terms of Kosslyn...   \n",
       "162  Results are discussed both in terms of Kosslyn...   \n",
       "163  Results are discussed both in terms of Kosslyn...   \n",
       "164  Results are discussed both in terms of Kosslyn...   \n",
       "165  Results are discussed both in terms of Kosslyn...   \n",
       "166  Results are discussed both in terms of Kosslyn...   \n",
       "167  Results are discussed both in terms of Kosslyn...   \n",
       "168  Results are discussed both in terms of Kosslyn...   \n",
       "169  Results are discussed both in terms of Kosslyn...   \n",
       "170  Results are discussed both in terms of Kosslyn...   \n",
       "171  Results are discussed both in terms of Kosslyn...   \n",
       "172  Results are discussed both in terms of Kosslyn...   \n",
       "173  Results are discussed both in terms of Kosslyn...   \n",
       "174  Results are discussed both in terms of Kosslyn...   \n",
       "175  Results are discussed both in terms of Kosslyn...   \n",
       "176  Results are discussed both in terms of Kosslyn...   \n",
       "177  Results are discussed both in terms of Kosslyn...   \n",
       "178  Results are discussed both in terms of Kosslyn...   \n",
       "179  Results are discussed both in terms of Kosslyn...   \n",
       "180  Results are discussed both in terms of Kosslyn...   \n",
       "181  Results are discussed both in terms of Kosslyn...   \n",
       "\n",
       "                                                 Sent2     Score  \n",
       "0    Effects of Using Mental and Manual Rotation Tr...  1.920951  \n",
       "1    The goal of this project was to examine how tr...  2.942941  \n",
       "2    In Experiment 1, we examined improvement on a ...  1.764000  \n",
       "3    Practice in mental but not manual rotation lea...  0.956246  \n",
       "4    In Experiment 2, we examined improvement on a ...  0.718133  \n",
       "5    In this experiment, both mental and manual rot...  1.541414  \n",
       "6    These results suggest common processes in ment...  2.190217  \n",
       "7    The functional role of dorso-lateral premotor ...  2.064954  \n",
       "8    We examined whether body parts attached to abs...  0.773612  \n",
       "9    In Experiment 1, standard cube combinations re...  1.140523  \n",
       "10   Participants (N = 30) had to decide whether tw...  1.481883  \n",
       "11   They were fastest and made less errors in the ...  1.114221  \n",
       "12   A second experiment (N = 32) replicated the re...  1.680309  \n",
       "13   The findings of both experiments suggest that ...  1.790100  \n",
       "14   Thus, embodiment appears to be a strong and in...  1.187416  \n",
       "15   Sex Differences in Mental Rotation and How The...  1.725416  \n",
       "16   The most consistent cognitive sex differences ...  0.875700  \n",
       "17   Such sex differences have been suggested to be...  0.589085  \n",
       "18   However, it is still debated how the sex diffe...  1.300747  \n",
       "19   To provide a detailed exploration of sex diffe...  1.655437  \n",
       "20   Second-to-fourth digit length ratios (2D:4D) w...  0.951523  \n",
       "21   Handedness was assessed by the use of the Edin...  1.330544  \n",
       "22   In addition, we investigated the relation of s...  1.472080  \n",
       "23   Results showed a male advantage in rotational ...  0.722463  \n",
       "24   These findings are in contrast to the MR perfo...  1.789682  \n",
       "25   These results suggest that the differences in ...  1.641127  \n",
       "26   Effects of Using Mental and Manual Rotation Tr...  1.828229  \n",
       "27   The goal of this project was to examine how tr...  1.896127  \n",
       "28   In Experiment 1, we examined improvement on a ...  1.543728  \n",
       "29   Practice in mental but not manual rotation lea...  1.227528  \n",
       "..                                                 ...       ...  \n",
       "152  In addition, we investigated the relation of s...  0.757913  \n",
       "153  Results showed a male advantage in rotational ...  1.445867  \n",
       "154  These findings are in contrast to the MR perfo...  0.572131  \n",
       "155  These results suggest that the differences in ...  1.886378  \n",
       "156  Effects of Using Mental and Manual Rotation Tr...  1.825954  \n",
       "157  The goal of this project was to examine how tr...  0.927236  \n",
       "158  In Experiment 1, we examined improvement on a ...  1.139511  \n",
       "159  Practice in mental but not manual rotation lea...  1.119076  \n",
       "160  In Experiment 2, we examined improvement on a ...  1.091673  \n",
       "161  In this experiment, both mental and manual rot...  1.426276  \n",
       "162  These results suggest common processes in ment...  1.699433  \n",
       "163  The functional role of dorso-lateral premotor ...  0.913641  \n",
       "164  We examined whether body parts attached to abs...  0.964608  \n",
       "165  In Experiment 1, standard cube combinations re...  1.182724  \n",
       "166  Participants (N = 30) had to decide whether tw...  0.653223  \n",
       "167  They were fastest and made less errors in the ...  0.835689  \n",
       "168  A second experiment (N = 32) replicated the re...  1.098885  \n",
       "169  The findings of both experiments suggest that ...  2.336002  \n",
       "170  Thus, embodiment appears to be a strong and in...  0.834688  \n",
       "171  Sex Differences in Mental Rotation and How The...  1.929103  \n",
       "172  The most consistent cognitive sex differences ...  0.934831  \n",
       "173  Such sex differences have been suggested to be...  1.238322  \n",
       "174  However, it is still debated how the sex diffe...  1.051403  \n",
       "175  To provide a detailed exploration of sex diffe...  1.490316  \n",
       "176  Second-to-fourth digit length ratios (2D:4D) w...  0.880137  \n",
       "177  Handedness was assessed by the use of the Edin...  1.397422  \n",
       "178  In addition, we investigated the relation of s...  1.519207  \n",
       "179  Results showed a male advantage in rotational ...  2.276137  \n",
       "180  These findings are in contrast to the MR perfo...  1.045980  \n",
       "181  These results suggest that the differences in ...  1.812677  \n",
       "\n",
       "[182 rows x 3 columns]"
      ]
     },
     "execution_count": 12,
     "metadata": {},
     "output_type": "execute_result"
    }
   ],
   "source": [
    "active1_pairs = pd.read_csv(open('sent_sem_exp/score_active1_pairs.csv'), header=0, sep='\\t')\n",
    "active1_pairs"
   ]
  }
 ],
 "metadata": {
  "kernelspec": {
   "display_name": "Python 2",
   "language": "python",
   "name": "python2"
  },
  "language_info": {
   "codemirror_mode": {
    "name": "ipython",
    "version": 2
   },
   "file_extension": ".py",
   "mimetype": "text/x-python",
   "name": "python",
   "nbconvert_exporter": "python",
   "pygments_lexer": "ipython2",
   "version": "2.7.12"
  }
 },
 "nbformat": 4,
 "nbformat_minor": 2
}
