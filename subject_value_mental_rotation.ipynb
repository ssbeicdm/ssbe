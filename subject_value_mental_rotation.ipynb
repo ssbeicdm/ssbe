{
 "cells": [
  {
   "cell_type": "code",
   "execution_count": 4,
   "metadata": {
    "collapsed": true
   },
   "outputs": [],
   "source": [
    "import urllib2, json, pickle\n",
    "import numpy as np\n",
    "import pandas as pd"
   ]
  },
  {
   "cell_type": "code",
   "execution_count": 10,
   "metadata": {},
   "outputs": [],
   "source": [
    "response = urllib2.urlopen('https://api.istex.fr/document/?q=subject.value:%22mental%20rotation%22&size=100&output=id')\n",
    "data = json.load(response)\n",
    "subject_MR_ids = np.array(range(len(data['hits'])), dtype=np.object)\n",
    "for (i, hit) in enumerate(data['hits']):\n",
    "    subject_MR_ids[i] = hit['id']\n",
    "subject_MR_ids = subject_MR_ids.tolist()"
   ]
  },
  {
   "cell_type": "code",
   "execution_count": 11,
   "metadata": {
    "collapsed": true
   },
   "outputs": [],
   "source": [
    "def get_top_k(k, file_path, article_column):\n",
    "    df = pd.DataFrame()\n",
    "    top = np.array(range(k), dtype=np.object)\n",
    "    for (i, article) in enumerate(np.array(df.from_csv(file_path)[article_column])):\n",
    "        if i > k-1:\n",
    "            break\n",
    "        top[i] = article.split('/')[4]\n",
    "    return top.tolist()"
   ]
  },
  {
   "cell_type": "code",
   "execution_count": 33,
   "metadata": {
    "collapsed": true
   },
   "outputs": [],
   "source": [
    "def get_ids(json_file):\n",
    "    # takes a json file with list of articles meta data including a field named 'istex_id'\n",
    "    # retuns numpy array with the istex_id of the articles\n",
    "    ids = np.arange(len(json_file), dtype=np.object)\n",
    "    for (i,s) in enumerate(json_file):\n",
    "        ids[i] = s['istex_id']\n",
    "    return ids"
   ]
  },
  {
   "cell_type": "code",
   "execution_count": 12,
   "metadata": {
    "collapsed": true
   },
   "outputs": [],
   "source": [
    "qbe_top200 = get_top_k(200, 'QbE.csv', 'Articles')"
   ]
  },
  {
   "cell_type": "code",
   "execution_count": 13,
   "metadata": {
    "collapsed": true
   },
   "outputs": [],
   "source": [
    "mlt_top200 = get_top_k(200, 'MLT.csv', 'Article')"
   ]
  },
  {
   "cell_type": "code",
   "execution_count": 17,
   "metadata": {
    "collapsed": true
   },
   "outputs": [],
   "source": [
    "df = pd.DataFrame()\n",
    "active_top200 = np.array(df.from_csv('top200_activelearn.csv')['0']).tolist()"
   ]
  },
  {
   "cell_type": "code",
   "execution_count": 19,
   "metadata": {},
   "outputs": [
    {
     "data": {
      "text/plain": [
       "[]"
      ]
     },
     "execution_count": 19,
     "metadata": {},
     "output_type": "execute_result"
    }
   ],
   "source": [
    "intersection_qbe = find_intersection(subject_MR_ids, qbe_top200)\n",
    "intersection_mlt = find_intersection(subject_MR_ids, mlt_top200)\n",
    "find_intersection(subject_MR_ids, active_top200)"
   ]
  },
  {
   "cell_type": "code",
   "execution_count": 28,
   "metadata": {},
   "outputs": [
    {
     "data": {
      "text/plain": [
       "391"
      ]
     },
     "execution_count": 28,
     "metadata": {},
     "output_type": "execute_result"
    }
   ],
   "source": [
    "len(df.from_csv('MLT.csv')['Article'])"
   ]
  },
  {
   "cell_type": "code",
   "execution_count": 23,
   "metadata": {},
   "outputs": [
    {
     "data": {
      "text/plain": [
       "959"
      ]
     },
     "execution_count": 23,
     "metadata": {},
     "output_type": "execute_result"
    }
   ],
   "source": [
    "len(df.from_csv('QbE.csv')['Articles'])"
   ]
  },
  {
   "cell_type": "code",
   "execution_count": 29,
   "metadata": {},
   "outputs": [
    {
     "data": {
      "text/plain": [
       "[]"
      ]
     },
     "execution_count": 29,
     "metadata": {},
     "output_type": "execute_result"
    }
   ],
   "source": [
    "find_intersection(get_top_k(391, 'MLT.csv', 'Article'), subject_MR_ids)"
   ]
  },
  {
   "cell_type": "code",
   "execution_count": 24,
   "metadata": {},
   "outputs": [
    {
     "data": {
      "text/plain": [
       "[u'64380259D82AB564EF2E11A552ADA86BA0CB2BF2']"
      ]
     },
     "execution_count": 24,
     "metadata": {},
     "output_type": "execute_result"
    }
   ],
   "source": [
    "find_intersection(get_top_k(959, 'QbE.csv', 'Articles'), subject_MR_ids)"
   ]
  },
  {
   "cell_type": "code",
   "execution_count": 30,
   "metadata": {},
   "outputs": [
    {
     "data": {
      "text/plain": [
       "[u'B26B967E3291B9A1D8C2788375EC13EAE37C2172',\n",
       " u'25CF960A29914AAD30CE74DBDABE691930BF5D95',\n",
       " u'BF41413D6B46AA1792C96B3A15F76E3E5ED75F03']"
      ]
     },
     "execution_count": 30,
     "metadata": {},
     "output_type": "execute_result"
    }
   ],
   "source": [
    "find_intersection(np.array(df.from_csv('top959_activelearn.csv')['0']).tolist(), subject_MR_ids)"
   ]
  },
  {
   "cell_type": "code",
   "execution_count": 36,
   "metadata": {},
   "outputs": [],
   "source": [
    "test = json.load(open('sample_data/MentalRotationInMetaDataIstexWithoutAnnotated.json','r'))\n",
    "test_ids = get_ids(test)\n",
    "test_ids = test_ids.tolist()"
   ]
  },
  {
   "cell_type": "code",
   "execution_count": 38,
   "metadata": {},
   "outputs": [
    {
     "data": {
      "text/plain": [
       "61"
      ]
     },
     "execution_count": 38,
     "metadata": {},
     "output_type": "execute_result"
    }
   ],
   "source": [
    "len(find_intersection(test_ids, subject_MR_ids))"
   ]
  },
  {
   "cell_type": "code",
   "execution_count": 39,
   "metadata": {},
   "outputs": [
    {
     "data": {
      "text/plain": [
       "[u'B26B967E3291B9A1D8C2788375EC13EAE37C2172',\n",
       " u'64380259D82AB564EF2E11A552ADA86BA0CB2BF2',\n",
       " u'3D2369FDE80305CCF2EA47B90097CC54133139D3',\n",
       " u'BF41413D6B46AA1792C96B3A15F76E3E5ED75F03',\n",
       " u'25CF960A29914AAD30CE74DBDABE691930BF5D95',\n",
       " u'B819644036DBEE7562203695C995E8AFC829E03F']"
      ]
     },
     "execution_count": 39,
     "metadata": {},
     "output_type": "execute_result"
    }
   ],
   "source": [
    "find_intersection(np.array(df.from_csv('top10kwo_activelearn.csv')['0']).tolist(), subject_MR_ids)"
   ]
  }
 ],
 "metadata": {
  "kernelspec": {
   "display_name": "Python 2",
   "language": "python",
   "name": "python2"
  },
  "language_info": {
   "codemirror_mode": {
    "name": "ipython",
    "version": 2
   },
   "file_extension": ".py",
   "mimetype": "text/x-python",
   "name": "python",
   "nbconvert_exporter": "python",
   "pygments_lexer": "ipython2",
   "version": "2.7.12"
  }
 },
 "nbformat": 4,
 "nbformat_minor": 2
}
